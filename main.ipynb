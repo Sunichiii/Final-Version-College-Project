{
 "cells": [
  {
   "cell_type": "markdown",
   "metadata": {},
   "source": [
    "Importing Libraries"
   ]
  },
  {
   "cell_type": "code",
   "execution_count": 2,
   "metadata": {},
   "outputs": [],
   "source": [
    "import tensorflow as tf #library for training machine learning models and deep learning\n",
    "import matplotlib.pyplot as plt #plotting library in python (for graphs)"
   ]
  },
  {
   "cell_type": "markdown",
   "metadata": {},
   "source": [
    "## Data Pre-Processing"
   ]
  },
  {
   "cell_type": "markdown",
   "metadata": {},
   "source": [
    "Training Image Pre-Processing"
   ]
  },
  {
   "cell_type": "code",
   "execution_count": 3,
   "metadata": {},
   "outputs": [
    {
     "name": "stdout",
     "output_type": "stream",
     "text": [
      "Found 13640 files belonging to 62 classes.\n",
      "Using 10912 files for training.\n"
     ]
    }
   ],
   "source": [
    "training_set = tf.keras.utils.image_dataset_from_directory(\n",
    "    r\"D:\\7th sem project\\Machine learning part\\dataset\\train\",\n",
    "    labels = \"inferred\", # it is like tags for each value(a,b,c 12,23) based on folder names\n",
    "    label_mode = \"categorical\", #vector representation\n",
    "    class_names = None, \n",
    "    color_mode = \"grayscale\", # means the images are in black and white\n",
    "    batch_size = 32, #process 32 image at one time \n",
    "    image_size = (24, 24), # image pixel size is 24*24\n",
    "    shuffle = True, #mixes image everytime when it trains\n",
    "    seed = 42, # helps in randomization\n",
    "    validation_split = 0.2, #20% image lai testing ma rakheko\n",
    "    subset = \"training\", # yo purai lai \"keyword\" le denote gareko\n",
    "    interpolation = \"bilinear\", # resizing \n",
    "    crop_to_aspect_ratio = False, #whether to crop the image or not \n",
    ")"
   ]
  },
  {
   "cell_type": "markdown",
   "metadata": {},
   "source": [
    "Validation Image Pre-Processing"
   ]
  },
  {
   "cell_type": "code",
   "execution_count": 4,
   "metadata": {},
   "outputs": [
    {
     "name": "stdout",
     "output_type": "stream",
     "text": [
      "Found 2728 files belonging to 62 classes.\n",
      "Using 545 files for validation.\n"
     ]
    }
   ],
   "source": [
    "validation_set = tf.keras.utils.image_dataset_from_directory(\n",
    "    r'D:\\7th sem project\\Machine learning part\\dataset\\validate',\n",
    "    labels=\"inferred\",\n",
    "    label_mode=\"categorical\",\n",
    "    class_names=None,\n",
    "    color_mode=\"grayscale\",\n",
    "    batch_size=32,\n",
    "    image_size=(24, 24),\n",
    "    shuffle=True,\n",
    "    seed=42, \n",
    "    validation_split=0.2,  \n",
    "    subset=\"validation\", \n",
    "    interpolation=\"bilinear\",\n",
    "    crop_to_aspect_ratio=False\n",
    ")"
   ]
  },
  {
   "cell_type": "markdown",
   "metadata": {},
   "source": [
    "# Model Building"
   ]
  },
  {
   "cell_type": "code",
   "execution_count": 5,
   "metadata": {},
   "outputs": [],
   "source": [
    "learn = tf.keras.models.Sequential() # blueprint layer while building model"
   ]
  },
  {
   "cell_type": "markdown",
   "metadata": {},
   "source": [
    "Building convulation layer"
   ]
  },
  {
   "cell_type": "code",
   "execution_count": 6,
   "metadata": {},
   "outputs": [
    {
     "name": "stderr",
     "output_type": "stream",
     "text": [
      "c:\\Users\\bitte\\AppData\\Local\\Programs\\Python\\Python312\\Lib\\site-packages\\keras\\src\\layers\\convolutional\\base_conv.py:107: UserWarning: Do not pass an `input_shape`/`input_dim` argument to a layer. When using Sequential models, prefer using an `Input(shape)` object as the first layer in the model instead.\n",
      "  super().__init__(activity_regularizer=activity_regularizer, **kwargs)\n"
     ]
    }
   ],
   "source": [
    "# 1st convolutional layer\n",
    "learn.add(tf.keras.layers.Conv2D(filters=32, kernel_size=3, padding='same', activation='relu', input_shape=(24, 24, 1)))\n",
    "# Uses 32 different filters to look for patterns in the image\n",
    "# Each filter is a small 3x3 pixel square\n",
    "# Padding='same' keeps the output image size the same as the input size\n",
    "# ReLU activation helps the model learn complex patterns by introducing non-linearity\n",
    "\n",
    "# 2nd convolutional layer\n",
    "learn.add(tf.keras.layers.Conv2D(filters=32, kernel_size=3, activation='relu'))\n",
    "# Again uses 32 filters to find additional patterns in the image\n",
    "# Each filter is a 3x3 pixel square\n",
    "# This layer will process the output of the previous convolutional layer\n",
    "\n",
    "# Max pooling layer\n",
    "learn.add(tf.keras.layers.MaxPool2D(pool_size=2, strides=2))\n",
    "# Reduces the size of the image by summarizing 2x2 blocks into a single value\n",
    "# The filter moves by 2 pixels each time, making the image smaller and more manageable\n",
    "# This helps to keep only the most important information and reduces computation\n",
    "\n"
   ]
  },
  {
   "cell_type": "code",
   "execution_count": 7,
   "metadata": {},
   "outputs": [],
   "source": [
    "# Dropout to prevent overfitting\n",
    "learn.add(tf.keras.layers.Dropout(0.25))"
   ]
  },
  {
   "cell_type": "code",
   "execution_count": 8,
   "metadata": {},
   "outputs": [],
   "source": [
    "# Flattening layer\n",
    "learn.add(tf.keras.layers.Flatten()) "
   ]
  },
  {
   "cell_type": "code",
   "execution_count": 9,
   "metadata": {},
   "outputs": [],
   "source": [
    "#Fully connected layers\n",
    "learn.add(tf.keras.layers.Dense(units = 512, activation='relu'))\n",
    "learn.add(tf.keras.layers.Dense(units = 256, activation='relu'))\n",
    "\n",
    "#Dropout layers\n",
    "learn.add(tf.keras.layers.Dropout(0.5))\n",
    "\n",
    "#Output layer\n",
    "learn.add(tf.keras.layers.Dense(units =62, activation='softmax')) # multiclas classification ko lagi \n"
   ]
  },
  {
   "cell_type": "code",
   "execution_count": 10,
   "metadata": {},
   "outputs": [],
   "source": [
    "# Compiling the model\n",
    "\n",
    "learn.compile(optimizer='adam', loss='categorical_crossentropy', metrics =['accuracy'])"
   ]
  },
  {
   "cell_type": "markdown",
   "metadata": {},
   "source": [
    "# Model Summary\n"
   ]
  },
  {
   "cell_type": "code",
   "execution_count": 11,
   "metadata": {},
   "outputs": [
    {
     "data": {
      "text/html": [
       "<pre style=\"white-space:pre;overflow-x:auto;line-height:normal;font-family:Menlo,'DejaVu Sans Mono',consolas,'Courier New',monospace\"><span style=\"font-weight: bold\">Model: \"sequential\"</span>\n",
       "</pre>\n"
      ],
      "text/plain": [
       "\u001b[1mModel: \"sequential\"\u001b[0m\n"
      ]
     },
     "metadata": {},
     "output_type": "display_data"
    },
    {
     "data": {
      "text/html": [
       "<pre style=\"white-space:pre;overflow-x:auto;line-height:normal;font-family:Menlo,'DejaVu Sans Mono',consolas,'Courier New',monospace\">┏━━━━━━━━━━━━━━━━━━━━━━━━━━━━━━━━━┳━━━━━━━━━━━━━━━━━━━━━━━━┳━━━━━━━━━━━━━━━┓\n",
       "┃<span style=\"font-weight: bold\"> Layer (type)                    </span>┃<span style=\"font-weight: bold\"> Output Shape           </span>┃<span style=\"font-weight: bold\">       Param # </span>┃\n",
       "┡━━━━━━━━━━━━━━━━━━━━━━━━━━━━━━━━━╇━━━━━━━━━━━━━━━━━━━━━━━━╇━━━━━━━━━━━━━━━┩\n",
       "│ conv2d (<span style=\"color: #0087ff; text-decoration-color: #0087ff\">Conv2D</span>)                 │ (<span style=\"color: #00d7ff; text-decoration-color: #00d7ff\">None</span>, <span style=\"color: #00af00; text-decoration-color: #00af00\">24</span>, <span style=\"color: #00af00; text-decoration-color: #00af00\">24</span>, <span style=\"color: #00af00; text-decoration-color: #00af00\">32</span>)     │           <span style=\"color: #00af00; text-decoration-color: #00af00\">320</span> │\n",
       "├─────────────────────────────────┼────────────────────────┼───────────────┤\n",
       "│ conv2d_1 (<span style=\"color: #0087ff; text-decoration-color: #0087ff\">Conv2D</span>)               │ (<span style=\"color: #00d7ff; text-decoration-color: #00d7ff\">None</span>, <span style=\"color: #00af00; text-decoration-color: #00af00\">22</span>, <span style=\"color: #00af00; text-decoration-color: #00af00\">22</span>, <span style=\"color: #00af00; text-decoration-color: #00af00\">32</span>)     │         <span style=\"color: #00af00; text-decoration-color: #00af00\">9,248</span> │\n",
       "├─────────────────────────────────┼────────────────────────┼───────────────┤\n",
       "│ max_pooling2d (<span style=\"color: #0087ff; text-decoration-color: #0087ff\">MaxPooling2D</span>)    │ (<span style=\"color: #00d7ff; text-decoration-color: #00d7ff\">None</span>, <span style=\"color: #00af00; text-decoration-color: #00af00\">11</span>, <span style=\"color: #00af00; text-decoration-color: #00af00\">11</span>, <span style=\"color: #00af00; text-decoration-color: #00af00\">32</span>)     │             <span style=\"color: #00af00; text-decoration-color: #00af00\">0</span> │\n",
       "├─────────────────────────────────┼────────────────────────┼───────────────┤\n",
       "│ dropout (<span style=\"color: #0087ff; text-decoration-color: #0087ff\">Dropout</span>)               │ (<span style=\"color: #00d7ff; text-decoration-color: #00d7ff\">None</span>, <span style=\"color: #00af00; text-decoration-color: #00af00\">11</span>, <span style=\"color: #00af00; text-decoration-color: #00af00\">11</span>, <span style=\"color: #00af00; text-decoration-color: #00af00\">32</span>)     │             <span style=\"color: #00af00; text-decoration-color: #00af00\">0</span> │\n",
       "├─────────────────────────────────┼────────────────────────┼───────────────┤\n",
       "│ flatten (<span style=\"color: #0087ff; text-decoration-color: #0087ff\">Flatten</span>)               │ (<span style=\"color: #00d7ff; text-decoration-color: #00d7ff\">None</span>, <span style=\"color: #00af00; text-decoration-color: #00af00\">3872</span>)           │             <span style=\"color: #00af00; text-decoration-color: #00af00\">0</span> │\n",
       "├─────────────────────────────────┼────────────────────────┼───────────────┤\n",
       "│ dense (<span style=\"color: #0087ff; text-decoration-color: #0087ff\">Dense</span>)                   │ (<span style=\"color: #00d7ff; text-decoration-color: #00d7ff\">None</span>, <span style=\"color: #00af00; text-decoration-color: #00af00\">512</span>)            │     <span style=\"color: #00af00; text-decoration-color: #00af00\">1,982,976</span> │\n",
       "├─────────────────────────────────┼────────────────────────┼───────────────┤\n",
       "│ dense_1 (<span style=\"color: #0087ff; text-decoration-color: #0087ff\">Dense</span>)                 │ (<span style=\"color: #00d7ff; text-decoration-color: #00d7ff\">None</span>, <span style=\"color: #00af00; text-decoration-color: #00af00\">256</span>)            │       <span style=\"color: #00af00; text-decoration-color: #00af00\">131,328</span> │\n",
       "├─────────────────────────────────┼────────────────────────┼───────────────┤\n",
       "│ dropout_1 (<span style=\"color: #0087ff; text-decoration-color: #0087ff\">Dropout</span>)             │ (<span style=\"color: #00d7ff; text-decoration-color: #00d7ff\">None</span>, <span style=\"color: #00af00; text-decoration-color: #00af00\">256</span>)            │             <span style=\"color: #00af00; text-decoration-color: #00af00\">0</span> │\n",
       "├─────────────────────────────────┼────────────────────────┼───────────────┤\n",
       "│ dense_2 (<span style=\"color: #0087ff; text-decoration-color: #0087ff\">Dense</span>)                 │ (<span style=\"color: #00d7ff; text-decoration-color: #00d7ff\">None</span>, <span style=\"color: #00af00; text-decoration-color: #00af00\">62</span>)             │        <span style=\"color: #00af00; text-decoration-color: #00af00\">15,934</span> │\n",
       "└─────────────────────────────────┴────────────────────────┴───────────────┘\n",
       "</pre>\n"
      ],
      "text/plain": [
       "┏━━━━━━━━━━━━━━━━━━━━━━━━━━━━━━━━━┳━━━━━━━━━━━━━━━━━━━━━━━━┳━━━━━━━━━━━━━━━┓\n",
       "┃\u001b[1m \u001b[0m\u001b[1mLayer (type)                   \u001b[0m\u001b[1m \u001b[0m┃\u001b[1m \u001b[0m\u001b[1mOutput Shape          \u001b[0m\u001b[1m \u001b[0m┃\u001b[1m \u001b[0m\u001b[1m      Param #\u001b[0m\u001b[1m \u001b[0m┃\n",
       "┡━━━━━━━━━━━━━━━━━━━━━━━━━━━━━━━━━╇━━━━━━━━━━━━━━━━━━━━━━━━╇━━━━━━━━━━━━━━━┩\n",
       "│ conv2d (\u001b[38;5;33mConv2D\u001b[0m)                 │ (\u001b[38;5;45mNone\u001b[0m, \u001b[38;5;34m24\u001b[0m, \u001b[38;5;34m24\u001b[0m, \u001b[38;5;34m32\u001b[0m)     │           \u001b[38;5;34m320\u001b[0m │\n",
       "├─────────────────────────────────┼────────────────────────┼───────────────┤\n",
       "│ conv2d_1 (\u001b[38;5;33mConv2D\u001b[0m)               │ (\u001b[38;5;45mNone\u001b[0m, \u001b[38;5;34m22\u001b[0m, \u001b[38;5;34m22\u001b[0m, \u001b[38;5;34m32\u001b[0m)     │         \u001b[38;5;34m9,248\u001b[0m │\n",
       "├─────────────────────────────────┼────────────────────────┼───────────────┤\n",
       "│ max_pooling2d (\u001b[38;5;33mMaxPooling2D\u001b[0m)    │ (\u001b[38;5;45mNone\u001b[0m, \u001b[38;5;34m11\u001b[0m, \u001b[38;5;34m11\u001b[0m, \u001b[38;5;34m32\u001b[0m)     │             \u001b[38;5;34m0\u001b[0m │\n",
       "├─────────────────────────────────┼────────────────────────┼───────────────┤\n",
       "│ dropout (\u001b[38;5;33mDropout\u001b[0m)               │ (\u001b[38;5;45mNone\u001b[0m, \u001b[38;5;34m11\u001b[0m, \u001b[38;5;34m11\u001b[0m, \u001b[38;5;34m32\u001b[0m)     │             \u001b[38;5;34m0\u001b[0m │\n",
       "├─────────────────────────────────┼────────────────────────┼───────────────┤\n",
       "│ flatten (\u001b[38;5;33mFlatten\u001b[0m)               │ (\u001b[38;5;45mNone\u001b[0m, \u001b[38;5;34m3872\u001b[0m)           │             \u001b[38;5;34m0\u001b[0m │\n",
       "├─────────────────────────────────┼────────────────────────┼───────────────┤\n",
       "│ dense (\u001b[38;5;33mDense\u001b[0m)                   │ (\u001b[38;5;45mNone\u001b[0m, \u001b[38;5;34m512\u001b[0m)            │     \u001b[38;5;34m1,982,976\u001b[0m │\n",
       "├─────────────────────────────────┼────────────────────────┼───────────────┤\n",
       "│ dense_1 (\u001b[38;5;33mDense\u001b[0m)                 │ (\u001b[38;5;45mNone\u001b[0m, \u001b[38;5;34m256\u001b[0m)            │       \u001b[38;5;34m131,328\u001b[0m │\n",
       "├─────────────────────────────────┼────────────────────────┼───────────────┤\n",
       "│ dropout_1 (\u001b[38;5;33mDropout\u001b[0m)             │ (\u001b[38;5;45mNone\u001b[0m, \u001b[38;5;34m256\u001b[0m)            │             \u001b[38;5;34m0\u001b[0m │\n",
       "├─────────────────────────────────┼────────────────────────┼───────────────┤\n",
       "│ dense_2 (\u001b[38;5;33mDense\u001b[0m)                 │ (\u001b[38;5;45mNone\u001b[0m, \u001b[38;5;34m62\u001b[0m)             │        \u001b[38;5;34m15,934\u001b[0m │\n",
       "└─────────────────────────────────┴────────────────────────┴───────────────┘\n"
      ]
     },
     "metadata": {},
     "output_type": "display_data"
    },
    {
     "data": {
      "text/html": [
       "<pre style=\"white-space:pre;overflow-x:auto;line-height:normal;font-family:Menlo,'DejaVu Sans Mono',consolas,'Courier New',monospace\"><span style=\"font-weight: bold\"> Total params: </span><span style=\"color: #00af00; text-decoration-color: #00af00\">2,139,806</span> (8.16 MB)\n",
       "</pre>\n"
      ],
      "text/plain": [
       "\u001b[1m Total params: \u001b[0m\u001b[38;5;34m2,139,806\u001b[0m (8.16 MB)\n"
      ]
     },
     "metadata": {},
     "output_type": "display_data"
    },
    {
     "data": {
      "text/html": [
       "<pre style=\"white-space:pre;overflow-x:auto;line-height:normal;font-family:Menlo,'DejaVu Sans Mono',consolas,'Courier New',monospace\"><span style=\"font-weight: bold\"> Trainable params: </span><span style=\"color: #00af00; text-decoration-color: #00af00\">2,139,806</span> (8.16 MB)\n",
       "</pre>\n"
      ],
      "text/plain": [
       "\u001b[1m Trainable params: \u001b[0m\u001b[38;5;34m2,139,806\u001b[0m (8.16 MB)\n"
      ]
     },
     "metadata": {},
     "output_type": "display_data"
    },
    {
     "data": {
      "text/html": [
       "<pre style=\"white-space:pre;overflow-x:auto;line-height:normal;font-family:Menlo,'DejaVu Sans Mono',consolas,'Courier New',monospace\"><span style=\"font-weight: bold\"> Non-trainable params: </span><span style=\"color: #00af00; text-decoration-color: #00af00\">0</span> (0.00 B)\n",
       "</pre>\n"
      ],
      "text/plain": [
       "\u001b[1m Non-trainable params: \u001b[0m\u001b[38;5;34m0\u001b[0m (0.00 B)\n"
      ]
     },
     "metadata": {},
     "output_type": "display_data"
    }
   ],
   "source": [
    "learn.summary()"
   ]
  },
  {
   "cell_type": "markdown",
   "metadata": {},
   "source": [
    "## Evaluating the model"
   ]
  },
  {
   "cell_type": "code",
   "execution_count": 21,
   "metadata": {},
   "outputs": [
    {
     "name": "stdout",
     "output_type": "stream",
     "text": [
      "Epoch 1/10\n",
      "\u001b[1m341/341\u001b[0m \u001b[32m━━━━━━━━━━━━━━━━━━━━\u001b[0m\u001b[37m\u001b[0m \u001b[1m23s\u001b[0m 66ms/step - accuracy: 0.8740 - loss: 0.4217 - val_accuracy: 0.6440 - val_loss: 1.6185\n",
      "Epoch 2/10\n",
      "\u001b[1m341/341\u001b[0m \u001b[32m━━━━━━━━━━━━━━━━━━━━\u001b[0m\u001b[37m\u001b[0m \u001b[1m22s\u001b[0m 63ms/step - accuracy: 0.8726 - loss: 0.4192 - val_accuracy: 0.6275 - val_loss: 1.4819\n",
      "Epoch 3/10\n",
      "\u001b[1m341/341\u001b[0m \u001b[32m━━━━━━━━━━━━━━━━━━━━\u001b[0m\u001b[37m\u001b[0m \u001b[1m22s\u001b[0m 63ms/step - accuracy: 0.8721 - loss: 0.4194 - val_accuracy: 0.6312 - val_loss: 1.6927\n",
      "Epoch 4/10\n",
      "\u001b[1m341/341\u001b[0m \u001b[32m━━━━━━━━━━━━━━━━━━━━\u001b[0m\u001b[37m\u001b[0m \u001b[1m22s\u001b[0m 64ms/step - accuracy: 0.8564 - loss: 0.4712 - val_accuracy: 0.6165 - val_loss: 1.7905\n",
      "Epoch 5/10\n",
      "\u001b[1m341/341\u001b[0m \u001b[32m━━━━━━━━━━━━━━━━━━━━\u001b[0m\u001b[37m\u001b[0m \u001b[1m22s\u001b[0m 64ms/step - accuracy: 0.8552 - loss: 0.4667 - val_accuracy: 0.6257 - val_loss: 1.6966\n",
      "Epoch 6/10\n",
      "\u001b[1m341/341\u001b[0m \u001b[32m━━━━━━━━━━━━━━━━━━━━\u001b[0m\u001b[37m\u001b[0m \u001b[1m22s\u001b[0m 65ms/step - accuracy: 0.8775 - loss: 0.4216 - val_accuracy: 0.5945 - val_loss: 1.7613\n",
      "Epoch 7/10\n",
      "\u001b[1m341/341\u001b[0m \u001b[32m━━━━━━━━━━━━━━━━━━━━\u001b[0m\u001b[37m\u001b[0m \u001b[1m22s\u001b[0m 65ms/step - accuracy: 0.8796 - loss: 0.4023 - val_accuracy: 0.6294 - val_loss: 1.5573\n",
      "Epoch 8/10\n",
      "\u001b[1m341/341\u001b[0m \u001b[32m━━━━━━━━━━━━━━━━━━━━\u001b[0m\u001b[37m\u001b[0m \u001b[1m22s\u001b[0m 64ms/step - accuracy: 0.8713 - loss: 0.4243 - val_accuracy: 0.6202 - val_loss: 1.7426\n",
      "Epoch 9/10\n",
      "\u001b[1m341/341\u001b[0m \u001b[32m━━━━━━━━━━━━━━━━━━━━\u001b[0m\u001b[37m\u001b[0m \u001b[1m22s\u001b[0m 64ms/step - accuracy: 0.8856 - loss: 0.3936 - val_accuracy: 0.6275 - val_loss: 1.6991\n",
      "Epoch 10/10\n",
      "\u001b[1m341/341\u001b[0m \u001b[32m━━━━━━━━━━━━━━━━━━━━\u001b[0m\u001b[37m\u001b[0m \u001b[1m22s\u001b[0m 65ms/step - accuracy: 0.8949 - loss: 0.3523 - val_accuracy: 0.6183 - val_loss: 1.8042\n"
     ]
    }
   ],
   "source": [
    "# Train the model\n",
    "training_history = learn.fit(\n",
    "    x=training_set,\n",
    "    validation_data=validation_set,\n",
    "    epochs=10\n",
    "\n",
    ")\n"
   ]
  },
  {
   "cell_type": "code",
   "execution_count": 12,
   "metadata": {},
   "outputs": [
    {
     "name": "stdout",
     "output_type": "stream",
     "text": [
      "Epoch 1/50\n",
      "\u001b[1m341/341\u001b[0m \u001b[32m━━━━━━━━━━━━━━━━━━━━\u001b[0m\u001b[37m\u001b[0m \u001b[1m37s\u001b[0m 104ms/step - accuracy: 0.0168 - loss: 13.1821 - val_accuracy: 0.0349 - val_loss: 4.0337\n",
      "Epoch 2/50\n",
      "\u001b[1m341/341\u001b[0m \u001b[32m━━━━━━━━━━━━━━━━━━━━\u001b[0m\u001b[37m\u001b[0m \u001b[1m24s\u001b[0m 70ms/step - accuracy: 0.0477 - loss: 4.0182 - val_accuracy: 0.0679 - val_loss: 3.8015\n",
      "Epoch 3/50\n",
      "\u001b[1m341/341\u001b[0m \u001b[32m━━━━━━━━━━━━━━━━━━━━\u001b[0m\u001b[37m\u001b[0m \u001b[1m24s\u001b[0m 69ms/step - accuracy: 0.0715 - loss: 3.8130 - val_accuracy: 0.1229 - val_loss: 3.4762\n",
      "Epoch 4/50\n",
      "\u001b[1m341/341\u001b[0m \u001b[32m━━━━━━━━━━━━━━━━━━━━\u001b[0m\u001b[37m\u001b[0m \u001b[1m24s\u001b[0m 70ms/step - accuracy: 0.1035 - loss: 3.5473 - val_accuracy: 0.2220 - val_loss: 3.0815\n",
      "Epoch 5/50\n",
      "\u001b[1m341/341\u001b[0m \u001b[32m━━━━━━━━━━━━━━━━━━━━\u001b[0m\u001b[37m\u001b[0m \u001b[1m24s\u001b[0m 71ms/step - accuracy: 0.1620 - loss: 3.2290 - val_accuracy: 0.2606 - val_loss: 2.7756\n",
      "Epoch 6/50\n",
      "\u001b[1m341/341\u001b[0m \u001b[32m━━━━━━━━━━━━━━━━━━━━\u001b[0m\u001b[37m\u001b[0m \u001b[1m29s\u001b[0m 86ms/step - accuracy: 0.2144 - loss: 2.9361 - val_accuracy: 0.2771 - val_loss: 2.6245\n",
      "Epoch 7/50\n",
      "\u001b[1m341/341\u001b[0m \u001b[32m━━━━━━━━━━━━━━━━━━━━\u001b[0m\u001b[37m\u001b[0m \u001b[1m27s\u001b[0m 80ms/step - accuracy: 0.2646 - loss: 2.7388 - val_accuracy: 0.3174 - val_loss: 2.3840\n",
      "Epoch 8/50\n",
      "\u001b[1m341/341\u001b[0m \u001b[32m━━━━━━━━━━━━━━━━━━━━\u001b[0m\u001b[37m\u001b[0m \u001b[1m31s\u001b[0m 90ms/step - accuracy: 0.3161 - loss: 2.4724 - val_accuracy: 0.4128 - val_loss: 2.0862\n",
      "Epoch 9/50\n",
      "\u001b[1m341/341\u001b[0m \u001b[32m━━━━━━━━━━━━━━━━━━━━\u001b[0m\u001b[37m\u001b[0m \u001b[1m29s\u001b[0m 86ms/step - accuracy: 0.3608 - loss: 2.2510 - val_accuracy: 0.4183 - val_loss: 1.8974\n",
      "Epoch 10/50\n",
      "\u001b[1m341/341\u001b[0m \u001b[32m━━━━━━━━━━━━━━━━━━━━\u001b[0m\u001b[37m\u001b[0m \u001b[1m25s\u001b[0m 73ms/step - accuracy: 0.4086 - loss: 2.0443 - val_accuracy: 0.4752 - val_loss: 1.7855\n",
      "Epoch 11/50\n",
      "\u001b[1m341/341\u001b[0m \u001b[32m━━━━━━━━━━━━━━━━━━━━\u001b[0m\u001b[37m\u001b[0m \u001b[1m24s\u001b[0m 70ms/step - accuracy: 0.4373 - loss: 1.9408 - val_accuracy: 0.4917 - val_loss: 1.6808\n",
      "Epoch 12/50\n",
      "\u001b[1m341/341\u001b[0m \u001b[32m━━━━━━━━━━━━━━━━━━━━\u001b[0m\u001b[37m\u001b[0m \u001b[1m24s\u001b[0m 71ms/step - accuracy: 0.4698 - loss: 1.7970 - val_accuracy: 0.4936 - val_loss: 1.6528\n",
      "Epoch 13/50\n",
      "\u001b[1m341/341\u001b[0m \u001b[32m━━━━━━━━━━━━━━━━━━━━\u001b[0m\u001b[37m\u001b[0m \u001b[1m24s\u001b[0m 69ms/step - accuracy: 0.5015 - loss: 1.6492 - val_accuracy: 0.4899 - val_loss: 1.6204\n",
      "Epoch 14/50\n",
      "\u001b[1m341/341\u001b[0m \u001b[32m━━━━━━━━━━━━━━━━━━━━\u001b[0m\u001b[37m\u001b[0m \u001b[1m26s\u001b[0m 77ms/step - accuracy: 0.5371 - loss: 1.5221 - val_accuracy: 0.5083 - val_loss: 1.6011\n",
      "Epoch 15/50\n",
      "\u001b[1m341/341\u001b[0m \u001b[32m━━━━━━━━━━━━━━━━━━━━\u001b[0m\u001b[37m\u001b[0m \u001b[1m24s\u001b[0m 71ms/step - accuracy: 0.5598 - loss: 1.4428 - val_accuracy: 0.5394 - val_loss: 1.5752\n",
      "Epoch 16/50\n",
      "\u001b[1m341/341\u001b[0m \u001b[32m━━━━━━━━━━━━━━━━━━━━\u001b[0m\u001b[37m\u001b[0m \u001b[1m24s\u001b[0m 71ms/step - accuracy: 0.5884 - loss: 1.3476 - val_accuracy: 0.5284 - val_loss: 1.4912\n",
      "Epoch 17/50\n",
      "\u001b[1m341/341\u001b[0m \u001b[32m━━━━━━━━━━━━━━━━━━━━\u001b[0m\u001b[37m\u001b[0m \u001b[1m24s\u001b[0m 71ms/step - accuracy: 0.6233 - loss: 1.2280 - val_accuracy: 0.5193 - val_loss: 1.5927\n",
      "Epoch 18/50\n",
      "\u001b[1m341/341\u001b[0m \u001b[32m━━━━━━━━━━━━━━━━━━━━\u001b[0m\u001b[37m\u001b[0m \u001b[1m24s\u001b[0m 71ms/step - accuracy: 0.6302 - loss: 1.1714 - val_accuracy: 0.5266 - val_loss: 1.5064\n",
      "Epoch 19/50\n",
      "\u001b[1m341/341\u001b[0m \u001b[32m━━━━━━━━━━━━━━━━━━━━\u001b[0m\u001b[37m\u001b[0m \u001b[1m24s\u001b[0m 70ms/step - accuracy: 0.6535 - loss: 1.1207 - val_accuracy: 0.5596 - val_loss: 1.5301\n",
      "Epoch 20/50\n",
      "\u001b[1m341/341\u001b[0m \u001b[32m━━━━━━━━━━━━━━━━━━━━\u001b[0m\u001b[37m\u001b[0m \u001b[1m24s\u001b[0m 70ms/step - accuracy: 0.6694 - loss: 1.0433 - val_accuracy: 0.5670 - val_loss: 1.4085\n",
      "Epoch 21/50\n",
      "\u001b[1m341/341\u001b[0m \u001b[32m━━━━━━━━━━━━━━━━━━━━\u001b[0m\u001b[37m\u001b[0m \u001b[1m24s\u001b[0m 69ms/step - accuracy: 0.6977 - loss: 0.9889 - val_accuracy: 0.6000 - val_loss: 1.3208\n",
      "Epoch 22/50\n",
      "\u001b[1m341/341\u001b[0m \u001b[32m━━━━━━━━━━━━━━━━━━━━\u001b[0m\u001b[37m\u001b[0m \u001b[1m24s\u001b[0m 69ms/step - accuracy: 0.7045 - loss: 0.9354 - val_accuracy: 0.6147 - val_loss: 1.3213\n",
      "Epoch 23/50\n",
      "\u001b[1m341/341\u001b[0m \u001b[32m━━━━━━━━━━━━━━━━━━━━\u001b[0m\u001b[37m\u001b[0m \u001b[1m24s\u001b[0m 69ms/step - accuracy: 0.7115 - loss: 0.9135 - val_accuracy: 0.5817 - val_loss: 1.3530\n",
      "Epoch 24/50\n",
      "\u001b[1m341/341\u001b[0m \u001b[32m━━━━━━━━━━━━━━━━━━━━\u001b[0m\u001b[37m\u001b[0m \u001b[1m24s\u001b[0m 70ms/step - accuracy: 0.7270 - loss: 0.8787 - val_accuracy: 0.6037 - val_loss: 1.3483\n",
      "Epoch 25/50\n",
      "\u001b[1m341/341\u001b[0m \u001b[32m━━━━━━━━━━━━━━━━━━━━\u001b[0m\u001b[37m\u001b[0m \u001b[1m24s\u001b[0m 69ms/step - accuracy: 0.7198 - loss: 0.8673 - val_accuracy: 0.6037 - val_loss: 1.3968\n",
      "Epoch 26/50\n",
      "\u001b[1m341/341\u001b[0m \u001b[32m━━━━━━━━━━━━━━━━━━━━\u001b[0m\u001b[37m\u001b[0m \u001b[1m24s\u001b[0m 69ms/step - accuracy: 0.7560 - loss: 0.7850 - val_accuracy: 0.6202 - val_loss: 1.3743\n",
      "Epoch 27/50\n",
      "\u001b[1m341/341\u001b[0m \u001b[32m━━━━━━━━━━━━━━━━━━━━\u001b[0m\u001b[37m\u001b[0m \u001b[1m24s\u001b[0m 69ms/step - accuracy: 0.7517 - loss: 0.7755 - val_accuracy: 0.6257 - val_loss: 1.3288\n",
      "Epoch 28/50\n",
      "\u001b[1m341/341\u001b[0m \u001b[32m━━━━━━━━━━━━━━━━━━━━\u001b[0m\u001b[37m\u001b[0m \u001b[1m24s\u001b[0m 71ms/step - accuracy: 0.7605 - loss: 0.7508 - val_accuracy: 0.6092 - val_loss: 1.3951\n",
      "Epoch 29/50\n",
      "\u001b[1m341/341\u001b[0m \u001b[32m━━━━━━━━━━━━━━━━━━━━\u001b[0m\u001b[37m\u001b[0m \u001b[1m24s\u001b[0m 71ms/step - accuracy: 0.7716 - loss: 0.7327 - val_accuracy: 0.5908 - val_loss: 1.4444\n",
      "Epoch 30/50\n",
      "\u001b[1m341/341\u001b[0m \u001b[32m━━━━━━━━━━━━━━━━━━━━\u001b[0m\u001b[37m\u001b[0m \u001b[1m24s\u001b[0m 71ms/step - accuracy: 0.7612 - loss: 0.7370 - val_accuracy: 0.6257 - val_loss: 1.4122\n",
      "Epoch 31/50\n",
      "\u001b[1m341/341\u001b[0m \u001b[32m━━━━━━━━━━━━━━━━━━━━\u001b[0m\u001b[37m\u001b[0m \u001b[1m24s\u001b[0m 69ms/step - accuracy: 0.7785 - loss: 0.7031 - val_accuracy: 0.6422 - val_loss: 1.3056\n",
      "Epoch 32/50\n",
      "\u001b[1m341/341\u001b[0m \u001b[32m━━━━━━━━━━━━━━━━━━━━\u001b[0m\u001b[37m\u001b[0m \u001b[1m24s\u001b[0m 69ms/step - accuracy: 0.7889 - loss: 0.6571 - val_accuracy: 0.6037 - val_loss: 1.5162\n",
      "Epoch 33/50\n",
      "\u001b[1m341/341\u001b[0m \u001b[32m━━━━━━━━━━━━━━━━━━━━\u001b[0m\u001b[37m\u001b[0m \u001b[1m24s\u001b[0m 69ms/step - accuracy: 0.7904 - loss: 0.6741 - val_accuracy: 0.6110 - val_loss: 1.3928\n",
      "Epoch 34/50\n",
      "\u001b[1m341/341\u001b[0m \u001b[32m━━━━━━━━━━━━━━━━━━━━\u001b[0m\u001b[37m\u001b[0m \u001b[1m24s\u001b[0m 69ms/step - accuracy: 0.7977 - loss: 0.6326 - val_accuracy: 0.6220 - val_loss: 1.2828\n",
      "Epoch 35/50\n",
      "\u001b[1m341/341\u001b[0m \u001b[32m━━━━━━━━━━━━━━━━━━━━\u001b[0m\u001b[37m\u001b[0m \u001b[1m23s\u001b[0m 69ms/step - accuracy: 0.8084 - loss: 0.6131 - val_accuracy: 0.6349 - val_loss: 1.3453\n",
      "Epoch 36/50\n",
      "\u001b[1m341/341\u001b[0m \u001b[32m━━━━━━━━━━━━━━━━━━━━\u001b[0m\u001b[37m\u001b[0m \u001b[1m24s\u001b[0m 69ms/step - accuracy: 0.8056 - loss: 0.5988 - val_accuracy: 0.6073 - val_loss: 1.4614\n",
      "Epoch 37/50\n",
      "\u001b[1m341/341\u001b[0m \u001b[32m━━━━━━━━━━━━━━━━━━━━\u001b[0m\u001b[37m\u001b[0m \u001b[1m24s\u001b[0m 69ms/step - accuracy: 0.8234 - loss: 0.5700 - val_accuracy: 0.6257 - val_loss: 1.5147\n",
      "Epoch 38/50\n",
      "\u001b[1m341/341\u001b[0m \u001b[32m━━━━━━━━━━━━━━━━━━━━\u001b[0m\u001b[37m\u001b[0m \u001b[1m24s\u001b[0m 69ms/step - accuracy: 0.8165 - loss: 0.5863 - val_accuracy: 0.6330 - val_loss: 1.4326\n",
      "Epoch 39/50\n",
      "\u001b[1m341/341\u001b[0m \u001b[32m━━━━━━━━━━━━━━━━━━━━\u001b[0m\u001b[37m\u001b[0m \u001b[1m24s\u001b[0m 69ms/step - accuracy: 0.8288 - loss: 0.5510 - val_accuracy: 0.6239 - val_loss: 1.4453\n",
      "Epoch 40/50\n",
      "\u001b[1m341/341\u001b[0m \u001b[32m━━━━━━━━━━━━━━━━━━━━\u001b[0m\u001b[37m\u001b[0m \u001b[1m24s\u001b[0m 69ms/step - accuracy: 0.8397 - loss: 0.5071 - val_accuracy: 0.6550 - val_loss: 1.4330\n",
      "Epoch 41/50\n",
      "\u001b[1m341/341\u001b[0m \u001b[32m━━━━━━━━━━━━━━━━━━━━\u001b[0m\u001b[37m\u001b[0m \u001b[1m24s\u001b[0m 69ms/step - accuracy: 0.8371 - loss: 0.5174 - val_accuracy: 0.6202 - val_loss: 1.5180\n",
      "Epoch 42/50\n",
      "\u001b[1m341/341\u001b[0m \u001b[32m━━━━━━━━━━━━━━━━━━━━\u001b[0m\u001b[37m\u001b[0m \u001b[1m24s\u001b[0m 69ms/step - accuracy: 0.8449 - loss: 0.4804 - val_accuracy: 0.6183 - val_loss: 1.4478\n",
      "Epoch 43/50\n",
      "\u001b[1m341/341\u001b[0m \u001b[32m━━━━━━━━━━━━━━━━━━━━\u001b[0m\u001b[37m\u001b[0m \u001b[1m23s\u001b[0m 69ms/step - accuracy: 0.8371 - loss: 0.5085 - val_accuracy: 0.6183 - val_loss: 1.5629\n",
      "Epoch 44/50\n",
      "\u001b[1m341/341\u001b[0m \u001b[32m━━━━━━━━━━━━━━━━━━━━\u001b[0m\u001b[37m\u001b[0m \u001b[1m24s\u001b[0m 69ms/step - accuracy: 0.8349 - loss: 0.5243 - val_accuracy: 0.6220 - val_loss: 1.4101\n",
      "Epoch 45/50\n",
      "\u001b[1m341/341\u001b[0m \u001b[32m━━━━━━━━━━━━━━━━━━━━\u001b[0m\u001b[37m\u001b[0m \u001b[1m24s\u001b[0m 69ms/step - accuracy: 0.8474 - loss: 0.4799 - val_accuracy: 0.6128 - val_loss: 1.4840\n",
      "Epoch 46/50\n",
      "\u001b[1m341/341\u001b[0m \u001b[32m━━━━━━━━━━━━━━━━━━━━\u001b[0m\u001b[37m\u001b[0m \u001b[1m24s\u001b[0m 69ms/step - accuracy: 0.8493 - loss: 0.4995 - val_accuracy: 0.6147 - val_loss: 1.5385\n",
      "Epoch 47/50\n",
      "\u001b[1m341/341\u001b[0m \u001b[32m━━━━━━━━━━━━━━━━━━━━\u001b[0m\u001b[37m\u001b[0m \u001b[1m24s\u001b[0m 69ms/step - accuracy: 0.8571 - loss: 0.4801 - val_accuracy: 0.6202 - val_loss: 1.4860\n",
      "Epoch 48/50\n",
      "\u001b[1m341/341\u001b[0m \u001b[32m━━━━━━━━━━━━━━━━━━━━\u001b[0m\u001b[37m\u001b[0m \u001b[1m24s\u001b[0m 69ms/step - accuracy: 0.8536 - loss: 0.4758 - val_accuracy: 0.6312 - val_loss: 1.4767\n",
      "Epoch 49/50\n",
      "\u001b[1m341/341\u001b[0m \u001b[32m━━━━━━━━━━━━━━━━━━━━\u001b[0m\u001b[37m\u001b[0m \u001b[1m24s\u001b[0m 70ms/step - accuracy: 0.8597 - loss: 0.4496 - val_accuracy: 0.6294 - val_loss: 1.5311\n",
      "Epoch 50/50\n",
      "\u001b[1m341/341\u001b[0m \u001b[32m━━━━━━━━━━━━━━━━━━━━\u001b[0m\u001b[37m\u001b[0m \u001b[1m24s\u001b[0m 69ms/step - accuracy: 0.8719 - loss: 0.4204 - val_accuracy: 0.6459 - val_loss: 1.4862\n"
     ]
    }
   ],
   "source": [
    "# Continue training the model for 10 more epochs\n",
    "additional_history = learn.fit(\n",
    "    x=training_set,\n",
    "    validation_data=validation_set,\n",
    "    epochs=50  # Additional epochs\n",
    ")\n"
   ]
  },
  {
   "cell_type": "code",
   "execution_count": 13,
   "metadata": {},
   "outputs": [
    {
     "name": "stdout",
     "output_type": "stream",
     "text": [
      "\u001b[1m341/341\u001b[0m \u001b[32m━━━━━━━━━━━━━━━━━━━━\u001b[0m\u001b[37m\u001b[0m \u001b[1m25s\u001b[0m 74ms/step - accuracy: 0.9778 - loss: 0.0743\n",
      "Training Accuracy is : 0.9800220131874084\n",
      "Training loss is: 0.0669841393828392\n"
     ]
    }
   ],
   "source": [
    "# training set accuracy\n",
    "\n",
    "training_loss, training_accuracy = learn.evaluate(training_set)\n",
    "print(\"Training Accuracy is :\", training_accuracy)\n",
    "print(\"Training loss is:\", training_loss)"
   ]
  },
  {
   "cell_type": "markdown",
   "metadata": {},
   "source": [
    "## Training Visualization\n"
   ]
  },
  {
   "cell_type": "code",
   "execution_count": 23,
   "metadata": {},
   "outputs": [],
   "source": [
    "# Combining the histories\n",
    "for key in training_history.history.keys():\n",
    "    training_history.history[key].extend(additional_history.history[key])"
   ]
  },
  {
   "cell_type": "code",
   "execution_count": 29,
   "metadata": {},
   "outputs": [
    {
     "data": {
      "image/png": "[encoded data removed]",
      "text/plain": [
       "<Figure size 640x480 with 1 Axes>"
      ]
     },
     "metadata": {},
     "output_type": "display_data"
    }
   ],
   "source": [
    "epochs = [i for i in range(51, 111)]  # Last 60 epochs (from 51 to 110)\n",
    "plt.plot(epochs, training_history.history['accuracy'][-60:], color='red')\n",
    "plt.xlabel('No. of Epochs')\n",
    "plt.ylabel('Training Accuracy')\n",
    "plt.title('Visualization of Training Accuracy Result (Last 60 Epochs)')\n",
    "plt.show()\n",
    "\n"
   ]
  },
  {
   "cell_type": "markdown",
   "metadata": {},
   "source": [
    "## Validation Accuracy\n"
   ]
  },
  {
   "cell_type": "code",
   "execution_count": 34,
   "metadata": {},
   "outputs": [
    {
     "data": {
      "image/png": "[encoded data removed]",
      "text/plain": [
       "<Figure size 640x480 with 1 Axes>"
      ]
     },
     "metadata": {},
     "output_type": "display_data"
    }
   ],
   "source": [
    "epochs = [i for i in range(51, 111)]\n",
    "plt.plot(epochs, training_history.history['accuracy'][50:], color='blue')\n",
    "plt.xlabel('No. of Epochs')\n",
    "plt.ylabel('Validation Accuracy')\n",
    "plt.title('Visualization of Validation Accuracy Result')\n",
    "plt.show()\n"
   ]
  },
  {
   "cell_type": "markdown",
   "metadata": {},
   "source": [
    "## Test set Evaluation"
   ]
  },
  {
   "cell_type": "code",
   "execution_count": 35,
   "metadata": {},
   "outputs": [
    {
     "name": "stdout",
     "output_type": "stream",
     "text": [
      "Found 682 files belonging to 62 classes.\n"
     ]
    }
   ],
   "source": [
    "testing_set = tf.keras.utils.image_dataset_from_directory(\n",
    "    r\"D:\\7th sem project\\Machine learning part\\dataset\\test\",\n",
    "    labels = \"inferred\", # it is like tags for each value(a,b,c 12,23) based on folder names\n",
    "    label_mode = \"categorical\", #vector representation\n",
    "    class_names = None, \n",
    "    color_mode = \"grayscale\", # means the images are in black and white\n",
    "    batch_size = 32, #process 32 image at one time \n",
    "    image_size = (24, 24), # image pixel size is 24*24\n",
    "    shuffle = True, #mixes image everytime when it trains\n",
    "    seed = 42, # helps in randomization\n",
    "    interpolation = \"bilinear\", # resizing \n",
    "    crop_to_aspect_ratio = False, #whether to crop the image or not \n",
    ")"
   ]
  },
  {
   "cell_type": "code",
   "execution_count": 44,
   "metadata": {},
   "outputs": [
    {
     "name": "stdout",
     "output_type": "stream",
     "text": [
      "\u001b[1m22/22\u001b[0m \u001b[32m━━━━━━━━━━━━━━━━━━━━\u001b[0m\u001b[37m\u001b[0m \u001b[1m1s\u001b[0m 41ms/step - accuracy: 0.6053 - loss: 1.9252\n",
      "Test Accuracy:  0.5923753380775452\n",
      "Test Loss: 2.0188372135162354\n"
     ]
    }
   ],
   "source": [
    "# Testing accuracy and loss of the test data\n",
    "\n",
    "testing_loss, testing_accuracy = learn.evaluate(testing_set)\n",
    "print('Test Accuracy: ', testing_accuracy)\n",
    "print('Test Loss:', testing_loss)"
   ]
  },
  {
   "cell_type": "markdown",
   "metadata": {},
   "source": [
    "## Saving the model"
   ]
  },
  {
   "cell_type": "code",
   "execution_count": 37,
   "metadata": {},
   "outputs": [],
   "source": [
    "learn.save(\"1st Iteration.keras\")"
   ]
  },
  {
   "cell_type": "code",
   "execution_count": 38,
   "metadata": {},
   "outputs": [
    {
     "data": {
      "text/plain": [
       "{'accuracy': [0.8713343143463135,\n",
       "  0.8680351972579956,\n",
       "  0.8737170100212097,\n",
       "  0.865469217300415,\n",
       "  0.8636363744735718,\n",
       "  0.8787573575973511,\n",
       "  0.8792155385017395,\n",
       "  0.874450147151947,\n",
       "  0.8875550031661987,\n",
       "  0.8855388760566711,\n",
       "  0.020527860149741173,\n",
       "  0.050036657601594925,\n",
       "  0.07560484111309052,\n",
       "  0.11116202175617218,\n",
       "  0.16825513541698456,\n",
       "  0.22067448496818542,\n",
       "  0.27419355511665344,\n",
       "  0.32276391983032227,\n",
       "  0.3697763979434967,\n",
       "  0.41257330775260925,\n",
       "  0.4466642141342163,\n",
       "  0.4809384047985077,\n",
       "  0.5080645084381104,\n",
       "  0.5419721603393555,\n",
       "  0.5723057389259338,\n",
       "  0.5977822542190552,\n",
       "  0.6256415247917175,\n",
       "  0.629307210445404,\n",
       "  0.6609237790107727,\n",
       "  0.673112154006958,\n",
       "  0.6974890232086182,\n",
       "  0.7021627426147461,\n",
       "  0.7189332842826843,\n",
       "  0.7214076519012451,\n",
       "  0.7302969098091125,\n",
       "  0.7598973512649536,\n",
       "  0.7564149498939514,\n",
       "  0.7714442610740662,\n",
       "  0.7710776925086975,\n",
       "  0.7774926424026489,\n",
       "  0.7853739261627197,\n",
       "  0.7926136255264282,\n",
       "  0.8006781339645386,\n",
       "  0.8027859330177307,\n",
       "  0.8048020601272583,\n",
       "  0.8142412304878235,\n",
       "  0.8193731904029846,\n",
       "  0.8230388760566711,\n",
       "  0.8333027958869934,\n",
       "  0.8384347558021545,\n",
       "  0.837793231010437,\n",
       "  0.8438416719436646,\n",
       "  0.842650294303894,\n",
       "  0.8439332842826843,\n",
       "  0.8585044145584106,\n",
       "  0.8543804883956909,\n",
       "  0.8515396118164062,\n",
       "  0.8583211302757263,\n",
       "  0.8646444082260132,\n",
       "  0.866019070148468,\n",
       "  0.020527860149741173,\n",
       "  0.050036657601594925,\n",
       "  0.07560484111309052,\n",
       "  0.11116202175617218,\n",
       "  0.16825513541698456,\n",
       "  0.22067448496818542,\n",
       "  0.27419355511665344,\n",
       "  0.32276391983032227,\n",
       "  0.3697763979434967,\n",
       "  0.41257330775260925,\n",
       "  0.4466642141342163,\n",
       "  0.4809384047985077,\n",
       "  0.5080645084381104,\n",
       "  0.5419721603393555,\n",
       "  0.5723057389259338,\n",
       "  0.5977822542190552,\n",
       "  0.6256415247917175,\n",
       "  0.629307210445404,\n",
       "  0.6609237790107727,\n",
       "  0.673112154006958,\n",
       "  0.6974890232086182,\n",
       "  0.7021627426147461,\n",
       "  0.7189332842826843,\n",
       "  0.7214076519012451,\n",
       "  0.7302969098091125,\n",
       "  0.7598973512649536,\n",
       "  0.7564149498939514,\n",
       "  0.7714442610740662,\n",
       "  0.7710776925086975,\n",
       "  0.7774926424026489,\n",
       "  0.7853739261627197,\n",
       "  0.7926136255264282,\n",
       "  0.8006781339645386,\n",
       "  0.8027859330177307,\n",
       "  0.8048020601272583,\n",
       "  0.8142412304878235,\n",
       "  0.8193731904029846,\n",
       "  0.8230388760566711,\n",
       "  0.8333027958869934,\n",
       "  0.8384347558021545,\n",
       "  0.837793231010437,\n",
       "  0.8438416719436646,\n",
       "  0.842650294303894,\n",
       "  0.8439332842826843,\n",
       "  0.8585044145584106,\n",
       "  0.8543804883956909,\n",
       "  0.8515396118164062,\n",
       "  0.8583211302757263,\n",
       "  0.8646444082260132,\n",
       "  0.866019070148468],\n",
       " 'loss': [0.42119404673576355,\n",
       "  0.43684032559394836,\n",
       "  0.4195128381252289,\n",
       "  0.44269314408302307,\n",
       "  0.4456545114517212,\n",
       "  0.4094366729259491,\n",
       "  0.40516531467437744,\n",
       "  0.40807560086250305,\n",
       "  0.38433587551116943,\n",
       "  0.3817390501499176,\n",
       "  5.852435111999512,\n",
       "  3.9811418056488037,\n",
       "  3.7645297050476074,\n",
       "  3.5005712509155273,\n",
       "  3.181205987930298,\n",
       "  2.9025461673736572,\n",
       "  2.6845109462738037,\n",
       "  2.4478490352630615,\n",
       "  2.2097127437591553,\n",
       "  2.022082805633545,\n",
       "  1.8947118520736694,\n",
       "  1.7486692667007446,\n",
       "  1.6247955560684204,\n",
       "  1.5043742656707764,\n",
       "  1.4052032232284546,\n",
       "  1.2980889081954956,\n",
       "  1.2185802459716797,\n",
       "  1.178720474243164,\n",
       "  1.1042065620422363,\n",
       "  1.042626976966858,\n",
       "  0.9769372344017029,\n",
       "  0.9445794224739075,\n",
       "  0.8873680233955383,\n",
       "  0.8940063714981079,\n",
       "  0.8517652750015259,\n",
       "  0.7690313458442688,\n",
       "  0.7811008095741272,\n",
       "  0.732502281665802,\n",
       "  0.7289525270462036,\n",
       "  0.6986587643623352,\n",
       "  0.684465765953064,\n",
       "  0.6575340032577515,\n",
       "  0.6382277011871338,\n",
       "  0.620638370513916,\n",
       "  0.6206518411636353,\n",
       "  0.5892823338508606,\n",
       "  0.5787146091461182,\n",
       "  0.5661243200302124,\n",
       "  0.5383778214454651,\n",
       "  0.5223825573921204,\n",
       "  0.5243664979934692,\n",
       "  0.4978417456150055,\n",
       "  0.5030028223991394,\n",
       "  0.5105114579200745,\n",
       "  0.4612218737602234,\n",
       "  0.47791919112205505,\n",
       "  0.4865413010120392,\n",
       "  0.46691665053367615,\n",
       "  0.4443437159061432,\n",
       "  0.4400148391723633,\n",
       "  5.852435111999512,\n",
       "  3.9811418056488037,\n",
       "  3.7645297050476074,\n",
       "  3.5005712509155273,\n",
       "  3.181205987930298,\n",
       "  2.9025461673736572,\n",
       "  2.6845109462738037,\n",
       "  2.4478490352630615,\n",
       "  2.2097127437591553,\n",
       "  2.022082805633545,\n",
       "  1.8947118520736694,\n",
       "  1.7486692667007446,\n",
       "  1.6247955560684204,\n",
       "  1.5043742656707764,\n",
       "  1.4052032232284546,\n",
       "  1.2980889081954956,\n",
       "  1.2185802459716797,\n",
       "  1.178720474243164,\n",
       "  1.1042065620422363,\n",
       "  1.042626976966858,\n",
       "  0.9769372344017029,\n",
       "  0.9445794224739075,\n",
       "  0.8873680233955383,\n",
       "  0.8940063714981079,\n",
       "  0.8517652750015259,\n",
       "  0.7690313458442688,\n",
       "  0.7811008095741272,\n",
       "  0.732502281665802,\n",
       "  0.7289525270462036,\n",
       "  0.6986587643623352,\n",
       "  0.684465765953064,\n",
       "  0.6575340032577515,\n",
       "  0.6382277011871338,\n",
       "  0.620638370513916,\n",
       "  0.6206518411636353,\n",
       "  0.5892823338508606,\n",
       "  0.5787146091461182,\n",
       "  0.5661243200302124,\n",
       "  0.5383778214454651,\n",
       "  0.5223825573921204,\n",
       "  0.5243664979934692,\n",
       "  0.4978417456150055,\n",
       "  0.5030028223991394,\n",
       "  0.5105114579200745,\n",
       "  0.4612218737602234,\n",
       "  0.47791919112205505,\n",
       "  0.4865413010120392,\n",
       "  0.46691665053367615,\n",
       "  0.4443437159061432,\n",
       "  0.4400148391723633],\n",
       " 'val_accuracy': [0.6440367102622986,\n",
       "  0.6275229454040527,\n",
       "  0.631192684173584,\n",
       "  0.6165137887001038,\n",
       "  0.6256880760192871,\n",
       "  0.594495415687561,\n",
       "  0.6293578147888184,\n",
       "  0.6201834678649902,\n",
       "  0.6275229454040527,\n",
       "  0.6183485984802246,\n",
       "  0.03486238420009613,\n",
       "  0.06788990646600723,\n",
       "  0.12293577939271927,\n",
       "  0.22201834619045258,\n",
       "  0.26055046916007996,\n",
       "  0.2770642340183258,\n",
       "  0.31743118166923523,\n",
       "  0.4128440320491791,\n",
       "  0.41834861040115356,\n",
       "  0.4752293527126312,\n",
       "  0.4917431175708771,\n",
       "  0.4935779869556427,\n",
       "  0.48990824818611145,\n",
       "  0.5082568526268005,\n",
       "  0.5394495129585266,\n",
       "  0.5284403562545776,\n",
       "  0.5192660689353943,\n",
       "  0.526605486869812,\n",
       "  0.5596330165863037,\n",
       "  0.5669724941253662,\n",
       "  0.6000000238418579,\n",
       "  0.6146789193153381,\n",
       "  0.5816513895988464,\n",
       "  0.6036697030067444,\n",
       "  0.6036697030067444,\n",
       "  0.6201834678649902,\n",
       "  0.6256880760192871,\n",
       "  0.6091743111610413,\n",
       "  0.5908256769180298,\n",
       "  0.6256880760192871,\n",
       "  0.642201840877533,\n",
       "  0.6036697030067444,\n",
       "  0.6110091805458069,\n",
       "  0.6220183372497559,\n",
       "  0.6348623633384705,\n",
       "  0.6073394417762756,\n",
       "  0.6256880760192871,\n",
       "  0.6330274939537048,\n",
       "  0.6238532066345215,\n",
       "  0.6550458669662476,\n",
       "  0.6201834678649902,\n",
       "  0.6183485984802246,\n",
       "  0.6183485984802246,\n",
       "  0.6220183372497559,\n",
       "  0.6128440499305725,\n",
       "  0.6146789193153381,\n",
       "  0.6201834678649902,\n",
       "  0.631192684173584,\n",
       "  0.6293578147888184,\n",
       "  0.6458715796470642,\n",
       "  0.03486238420009613,\n",
       "  0.06788990646600723,\n",
       "  0.12293577939271927,\n",
       "  0.22201834619045258,\n",
       "  0.26055046916007996,\n",
       "  0.2770642340183258,\n",
       "  0.31743118166923523,\n",
       "  0.4128440320491791,\n",
       "  0.41834861040115356,\n",
       "  0.4752293527126312,\n",
       "  0.4917431175708771,\n",
       "  0.4935779869556427,\n",
       "  0.48990824818611145,\n",
       "  0.5082568526268005,\n",
       "  0.5394495129585266,\n",
       "  0.5284403562545776,\n",
       "  0.5192660689353943,\n",
       "  0.526605486869812,\n",
       "  0.5596330165863037,\n",
       "  0.5669724941253662,\n",
       "  0.6000000238418579,\n",
       "  0.6146789193153381,\n",
       "  0.5816513895988464,\n",
       "  0.6036697030067444,\n",
       "  0.6036697030067444,\n",
       "  0.6201834678649902,\n",
       "  0.6256880760192871,\n",
       "  0.6091743111610413,\n",
       "  0.5908256769180298,\n",
       "  0.6256880760192871,\n",
       "  0.642201840877533,\n",
       "  0.6036697030067444,\n",
       "  0.6110091805458069,\n",
       "  0.6220183372497559,\n",
       "  0.6348623633384705,\n",
       "  0.6073394417762756,\n",
       "  0.6256880760192871,\n",
       "  0.6330274939537048,\n",
       "  0.6238532066345215,\n",
       "  0.6550458669662476,\n",
       "  0.6201834678649902,\n",
       "  0.6183485984802246,\n",
       "  0.6183485984802246,\n",
       "  0.6220183372497559,\n",
       "  0.6128440499305725,\n",
       "  0.6146789193153381,\n",
       "  0.6201834678649902,\n",
       "  0.631192684173584,\n",
       "  0.6293578147888184,\n",
       "  0.6458715796470642],\n",
       " 'val_loss': [1.618539571762085,\n",
       "  1.4819457530975342,\n",
       "  1.6927266120910645,\n",
       "  1.7904857397079468,\n",
       "  1.6965608596801758,\n",
       "  1.7612675428390503,\n",
       "  1.5573439598083496,\n",
       "  1.7425938844680786,\n",
       "  1.6990944147109985,\n",
       "  1.8042353391647339,\n",
       "  4.033746719360352,\n",
       "  3.801543712615967,\n",
       "  3.4762356281280518,\n",
       "  3.081522226333618,\n",
       "  2.7756330966949463,\n",
       "  2.6244845390319824,\n",
       "  2.3839526176452637,\n",
       "  2.0861849784851074,\n",
       "  1.8974257707595825,\n",
       "  1.7854682207107544,\n",
       "  1.6808329820632935,\n",
       "  1.6528406143188477,\n",
       "  1.620378851890564,\n",
       "  1.6011229753494263,\n",
       "  1.5751807689666748,\n",
       "  1.4912445545196533,\n",
       "  1.5927064418792725,\n",
       "  1.5063704252243042,\n",
       "  1.5301456451416016,\n",
       "  1.4085110425949097,\n",
       "  1.3207825422286987,\n",
       "  1.3213136196136475,\n",
       "  1.3530253171920776,\n",
       "  1.348305344581604,\n",
       "  1.3967769145965576,\n",
       "  1.3743431568145752,\n",
       "  1.3287546634674072,\n",
       "  1.3951306343078613,\n",
       "  1.4443544149398804,\n",
       "  1.4121828079223633,\n",
       "  1.3055830001831055,\n",
       "  1.5162222385406494,\n",
       "  1.3928462266921997,\n",
       "  1.2827916145324707,\n",
       "  1.345321536064148,\n",
       "  1.4613912105560303,\n",
       "  1.5146658420562744,\n",
       "  1.4325650930404663,\n",
       "  1.445326566696167,\n",
       "  1.432997226715088,\n",
       "  1.5180457830429077,\n",
       "  1.4478013515472412,\n",
       "  1.562921166419983,\n",
       "  1.4101444482803345,\n",
       "  1.4840126037597656,\n",
       "  1.5385457277297974,\n",
       "  1.4860389232635498,\n",
       "  1.476717472076416,\n",
       "  1.5310970544815063,\n",
       "  1.486160159111023,\n",
       "  4.033746719360352,\n",
       "  3.801543712615967,\n",
       "  3.4762356281280518,\n",
       "  3.081522226333618,\n",
       "  2.7756330966949463,\n",
       "  2.6244845390319824,\n",
       "  2.3839526176452637,\n",
       "  2.0861849784851074,\n",
       "  1.8974257707595825,\n",
       "  1.7854682207107544,\n",
       "  1.6808329820632935,\n",
       "  1.6528406143188477,\n",
       "  1.620378851890564,\n",
       "  1.6011229753494263,\n",
       "  1.5751807689666748,\n",
       "  1.4912445545196533,\n",
       "  1.5927064418792725,\n",
       "  1.5063704252243042,\n",
       "  1.5301456451416016,\n",
       "  1.4085110425949097,\n",
       "  1.3207825422286987,\n",
       "  1.3213136196136475,\n",
       "  1.3530253171920776,\n",
       "  1.348305344581604,\n",
       "  1.3967769145965576,\n",
       "  1.3743431568145752,\n",
       "  1.3287546634674072,\n",
       "  1.3951306343078613,\n",
       "  1.4443544149398804,\n",
       "  1.4121828079223633,\n",
       "  1.3055830001831055,\n",
       "  1.5162222385406494,\n",
       "  1.3928462266921997,\n",
       "  1.2827916145324707,\n",
       "  1.345321536064148,\n",
       "  1.4613912105560303,\n",
       "  1.5146658420562744,\n",
       "  1.4325650930404663,\n",
       "  1.445326566696167,\n",
       "  1.432997226715088,\n",
       "  1.5180457830429077,\n",
       "  1.4478013515472412,\n",
       "  1.562921166419983,\n",
       "  1.4101444482803345,\n",
       "  1.4840126037597656,\n",
       "  1.5385457277297974,\n",
       "  1.4860389232635498,\n",
       "  1.476717472076416,\n",
       "  1.5310970544815063,\n",
       "  1.486160159111023]}"
      ]
     },
     "execution_count": 38,
     "metadata": {},
     "output_type": "execute_result"
    }
   ],
   "source": [
    "# for training history\n",
    "training_history.history"
   ]
  }
 ],
 "metadata": {
  "kernelspec": {
   "display_name": "Python 3",
   "language": "python",
   "name": "python3"
  },
  "language_info": {
   "codemirror_mode": {
    "name": "ipython",
    "version": 3
   },
   "file_extension": ".py",
   "mimetype": "text/x-python",
   "name": "python",
   "nbconvert_exporter": "python",
   "pygments_lexer": "ipython3",
   "version": "3.12.5"
  }
 },
 "nbformat": 4,
 "nbformat_minor": 2
}
