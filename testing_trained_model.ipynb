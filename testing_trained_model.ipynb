{
 "cells": [
  {
   "cell_type": "markdown",
   "metadata": {},
   "source": [
    "## Importing libraries"
   ]
  },
  {
   "cell_type": "code",
   "execution_count": 1,
   "metadata": {},
   "outputs": [],
   "source": [
    "import numpy as np\n",
    "import tensorflow as tf\n",
    "import matplotlib.pyplot as plt"
   ]
  },
  {
   "cell_type": "code",
   "execution_count": 19,
   "metadata": {},
   "outputs": [
    {
     "name": "stdout",
     "output_type": "stream",
     "text": [
      "Found 682 files belonging to 62 classes.\n"
     ]
    }
   ],
   "source": [
    "testing_set = tf.keras.utils.image_dataset_from_directory(\n",
    "    r\"D:\\7th sem project\\Machine learning part\\dataset\\test\",\n",
    "    labels = \"inferred\", # it is like tags for each value(a,b,c 12,23) based on folder names\n",
    "    label_mode = \"categorical\", #vector representation\n",
    "    class_names = None, \n",
    "    color_mode = \"grayscale\", # means the images are in black and white\n",
    "    batch_size = 32, #process 32 image at one time \n",
    "    image_size = (24, 24), # image pixel size is 24*24\n",
    "    shuffle = True, #mixes image everytime when it trains\n",
    "    seed = 42, # helps in randomization\n",
    "    interpolation = \"bilinear\", # resizing \n",
    "    crop_to_aspect_ratio = False, #whether to crop the image or not \n",
    ")"
   ]
  },
  {
   "cell_type": "markdown",
   "metadata": {},
   "source": [
    "# Test set image processing"
   ]
  },
  {
   "cell_type": "markdown",
   "metadata": {},
   "source": [
    "Loading trained model"
   ]
  },
  {
   "cell_type": "code",
   "execution_count": 2,
   "metadata": {},
   "outputs": [],
   "source": [
    "learn = tf.keras.models.load_model(\"1st Iteration.keras\")"
   ]
  },
  {
   "cell_type": "code",
   "execution_count": 3,
   "metadata": {},
   "outputs": [],
   "source": [
    "# Recompiling the model\n",
    "learn.compile(\n",
    "    optimizer = 'adam',\n",
    "    loss = 'categorical_crossentropy',\n",
    "    metrics =['accuracy']\n",
    ")"
   ]
  },
  {
   "cell_type": "markdown",
   "metadata": {},
   "source": [
    "## Image test visualization"
   ]
  },
  {
   "cell_type": "code",
   "execution_count": 41,
   "metadata": {},
   "outputs": [
    {
     "data": {
      "image/png": "[encoded data removed]",
      "text/plain": [
       "<Figure size 640x480 with 1 Axes>"
      ]
     },
     "metadata": {},
     "output_type": "display_data"
    }
   ],
   "source": [
    "import cv2\n",
    "image_path = r\"D:\\7th sem project\\Machine learning part\\dataset\\test\\Y_caps\\Y_caps.048.png\"\n",
    "\n",
    "# reading the image in default mode\n",
    "img = cv2.imread(image_path, cv2.IMREAD_GRAYSCALE)\n",
    "\n",
    "#displaying the image\n",
    "plt.imshow(img)\n",
    "plt.title(\"Test image\")\n",
    "plt.xticks([])\n",
    "plt.yticks([])\n",
    "plt.show()"
   ]
  },
  {
   "cell_type": "markdown",
   "metadata": {},
   "source": [
    "## Testing the image"
   ]
  },
  {
   "cell_type": "code",
   "execution_count": 42,
   "metadata": {},
   "outputs": [
    {
     "name": "stdout",
     "output_type": "stream",
     "text": [
      "\u001b[1m1/1\u001b[0m \u001b[32m━━━━━━━━━━━━━━━━━━━━\u001b[0m\u001b[37m\u001b[0m \u001b[1m0s\u001b[0m 22ms/step\n"
     ]
    }
   ],
   "source": [
    "image = tf.keras.preprocessing.image.load_img(image_path, color_mode='grayscale', target_size=(24, 24))\n",
    "input_arr = tf.keras.preprocessing.image.img_to_array(image)\n",
    "input_arr = np.array([input_arr]) #converting image into single batch\n",
    "predictions = learn.predict(input_arr)"
   ]
  },
  {
   "cell_type": "code",
   "execution_count": 43,
   "metadata": {},
   "outputs": [
    {
     "name": "stdout",
     "output_type": "stream",
     "text": [
      "[[7.54819547e-13 6.81068049e-11 6.12979278e-10 1.70228471e-08\n",
      "  1.80693803e-07 3.21370916e-11 2.36363655e-15 6.31507191e-07\n",
      "  5.96928240e-09 4.78590634e-09 6.50956199e-12 2.17914532e-12\n",
      "  2.60707522e-20 3.67192839e-11 4.19641001e-15 8.86184192e-13\n",
      "  2.52219010e-15 1.45265153e-06 1.23560467e-10 5.61112223e-08\n",
      "  2.29889163e-10 9.25723867e-14 5.69052094e-09 1.60585202e-07\n",
      "  2.70683222e-16 6.25325625e-10 2.13212233e-13 1.90809044e-12\n",
      "  5.02834129e-11 1.28496476e-11 1.02028087e-10 1.19171607e-04\n",
      "  1.10688037e-08 2.00751922e-04 5.89058578e-01 3.54956148e-10\n",
      "  1.12340935e-11 1.51779119e-07 4.44015915e-16 2.78750978e-08\n",
      "  2.64454248e-16 1.16953969e-09 1.04797732e-06 1.96982250e-10\n",
      "  6.63294831e-13 5.38306422e-09 8.16158918e-10 2.71449096e-11\n",
      "  1.32965626e-11 7.33362884e-11 1.08005942e-14 3.14403827e-08\n",
      "  8.41224157e-09 7.33893330e-07 8.99951207e-12 5.35695621e-09\n",
      "  2.23075197e-10 4.87835088e-04 2.95424707e-06 8.53110578e-06\n",
      "  4.10117686e-01 2.91479441e-09]]\n"
     ]
    }
   ],
   "source": [
    "print(predictions)"
   ]
  },
  {
   "cell_type": "code",
   "execution_count": 44,
   "metadata": {},
   "outputs": [
    {
     "name": "stdout",
     "output_type": "stream",
     "text": [
      "34\n"
     ]
    }
   ],
   "source": [
    "#printing the result set\n",
    "resulting_index = np.argmax(predictions)\n",
    "print(resulting_index)"
   ]
  },
  {
   "cell_type": "code",
   "execution_count": 45,
   "metadata": {},
   "outputs": [
    {
     "name": "stdout",
     "output_type": "stream",
     "text": [
      "IT is a Y_caps\n"
     ]
    }
   ],
   "source": [
    "#single image prediction\n",
    "print(\"IT is a {}\".format(testing_set.class_names[resulting_index]))"
   ]
  },
  {
   "cell_type": "code",
   "execution_count": null,
   "metadata": {},
   "outputs": [],
   "source": []
  }
 ],
 "metadata": {
  "kernelspec": {
   "display_name": "Python 3",
   "language": "python",
   "name": "python3"
  },
  "language_info": {
   "codemirror_mode": {
    "name": "ipython",
    "version": 3
   },
   "file_extension": ".py",
   "mimetype": "text/x-python",
   "name": "python",
   "nbconvert_exporter": "python",
   "pygments_lexer": "ipython3",
   "version": "3.12.5"
  }
 },
 "nbformat": 4,
 "nbformat_minor": 2
}
